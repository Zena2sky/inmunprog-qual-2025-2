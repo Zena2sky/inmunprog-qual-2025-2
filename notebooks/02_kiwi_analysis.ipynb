#이파일은 codex로 자동생성 해 본 샘플입니다.

{
 "cells": [
  {
   "cell_type": "markdown",
   "id": "89cbe39a",
   "metadata": {},
   "source": [
    "# KCI 데이터 Kiwi 형태소 분석\n",
    "\n",
    "이 노트북은 `data/kci_concat_with_meta.csv` 데이터를 기반으로 Kiwi 형태소 분석을 수행하고, 품사 분포와 TF-IDF, N-gram, 워드클라우드를 생성하여 `data/문제2_분석결과/` 폴더에 저장합니다."
   ]
  },
  {
   "cell_type": "markdown",
   "id": "e8b0aeda",
   "metadata": {},
   "source": [
    "## 분석 개요\n",
    "\n",
    "1. 데이터 불러오기 및 전처리\n",
    "2. Kiwi 형태소 분석 수행\n",
    "3. 품사 분포 집계 및 시각화\n",
    "4. TF-IDF 기반 핵심 어휘 추출\n",
    "5. N-gram 빈도 분석\n",
    "6. 워드클라우드 생성\n",
    "\n",
    "결과물은 모두 `data/문제2_분석결과/` 디렉토리에 저장됩니다."
   ]
  },
  {
   "cell_type": "code",
   "execution_count": null,
   "id": "275bdbb8",
   "metadata": {},
   "outputs": [],
   "source": [
    "# 필요 라이브러리 설치\n",
    "%pip install -q pandas kiwipiepy scikit-learn matplotlib seaborn wordcloud tqdm"
   ]
  },
  {
   "cell_type": "code",
   "execution_count": null,
   "id": "a70ad7d8",
   "metadata": {},
   "outputs": [],
   "source": [
    "import json\n",
    "from collections import Counter\n",
    "from pathlib import Path\n",
    "\n",
    "import matplotlib.pyplot as plt\n",
    "import numpy as np\n",
    "import pandas as pd\n",
    "import seaborn as sns\n",
    "from kiwipiepy import Kiwi\n",
    "from sklearn.feature_extraction.text import TfidfVectorizer\n",
    "from tqdm import tqdm\n",
    "from wordcloud import WordCloud\n",
    "\n",
    "sns.set_theme(style=\"whitegrid\")\n",
    "tqdm.pandas()"
   ]
  },
  {
   "cell_type": "code",
   "execution_count": null,
   "id": "4a7dea85",
   "metadata": {},
   "outputs": [],
   "source": [
    "candidate_paths = [\n",
    "    Path(\"data/kci_concat_with_meta.csv\"),\n",
    "    Path(\"data/문제1_수집데이터/kci_concat_with_meta.csv\")\n",
    "]\n",
    "\n",
    "for candidate in candidate_paths:\n",
    "    if candidate.exists():\n",
    "        data_path = candidate\n",
    "        break\n",
    "else:\n",
    "    raise FileNotFoundError(\"데이터 파일을 찾을 수 없습니다. data/kci_concat_with_meta.csv 경로를 확인하세요.\")\n",
    "\n",
    "output_dir = Path(\"data/문제2_분석결과\")\n",
    "output_dir.mkdir(parents=True, exist_ok=True)\n",
    "\n",
    "raw_df = pd.read_csv(data_path)\n",
    "raw_df['title'] = raw_df['title'].fillna('')\n",
    "raw_df['abstract'] = raw_df['abstract'].fillna('')\n",
    "raw_df['combined_text'] = (raw_df['title'].str.strip() + ' ' + raw_df['abstract'].str.strip()).str.replace(r\"\\s+\", \" \", regex=True).str.strip()\n",
    "\n",
    "print(f\"사용 중인 데이터 경로: {data_path}\")\n",
    "print(f\"총 문서 수: {len(raw_df):,}건\")\n",
    "raw_df.head()"
   ]
  },
  {
   "cell_type": "markdown",
   "id": "9149f5e4",
   "metadata": {},
   "source": [
    "## Kiwi 형태소 분석\n",
    "\n",
    "각 문서에 대해 Kiwi 형태소 분석을 수행하여 형태소와 품사를 추출합니다. 불용어 제거는 하지 않고, 공백 형태소는 제외합니다."
   ]
  },
  {
   "cell_type": "code",
   "execution_count": null,
   "id": "ed0513a4",
   "metadata": {},
   "outputs": [],
   "source": [
    "kiwi = Kiwi()\n",
    "\n",
    "def kiwi_tokenize(text: str):\n",
    "    tokens = []\n",
    "    tags = []\n",
    "    for token in kiwi.tokenize(text):\n",
    "        form = token.form.strip()\n",
    "        if not form:\n",
    "            continue\n",
    "        tokens.append(form)\n",
    "        tags.append(token.tag)\n",
    "    return tokens, tags\n",
    "\n",
    "analysis_results = raw_df['combined_text'].progress_apply(kiwi_tokenize)\n",
    "raw_df['tokens'] = analysis_results.apply(lambda item: item[0])\n",
    "raw_df['pos_tags'] = analysis_results.apply(lambda item: item[1])\n",
    "\n",
    "raw_df[['title', 'tokens', 'pos_tags']].head()"
   ]
  },
  {
   "cell_type": "markdown",
   "id": "8227dbdc",
   "metadata": {},
   "source": [
    "## 품사 분포 집계 및 시각화\n",
    "\n",
    "추출된 품사 태그의 전체 분포를 계산하고 상위 20개 품사를 시각화합니다."
   ]
  },
  {
   "cell_type": "code",
   "execution_count": null,
   "id": "c08a8a8d",
   "metadata": {},
   "outputs": [],
   "source": [
    "pos_counter = Counter(tag for tags in raw_df['pos_tags'] for tag in tags)\n",
    "pos_df = (\n",
    "    pd.DataFrame(pos_counter.items(), columns=['pos', 'count'])\n",
    "    .sort_values(by='count', ascending=False)\n",
    "    .reset_index(drop=True)\n",
    ")\n",
    "\n",
    "pos_output_path = output_dir / \"kiwi_pos_distribution.csv\"\n",
    "pos_plot_path = output_dir / \"kiwi_pos_distribution_top20.png\"\n",
    "pos_df.to_csv(pos_output_path, index=False)\n",
    "print(f\"품사 분포를 저장했습니다: {pos_output_path}\")\n",
    "\n",
    "plt.figure(figsize=(12, 6))\n",
    "sns.barplot(data=pos_df.head(20), x='count', y='pos', palette='viridis')\n",
    "plt.title('Kiwi 품사 분포 상위 20개')\n",
    "plt.xlabel('빈도')\n",
    "plt.ylabel('품사')\n",
    "plt.tight_layout()\n",
    "plt.savefig(pos_plot_path, dpi=300)\n",
    "print(f\"품사 분포 시각화를 저장했습니다: {pos_plot_path}\")\n",
    "plt.show()\n",
    "\n",
    "pos_df.head(20)"
   ]
  },
  {
   "cell_type": "markdown",
   "id": "319f9544",
   "metadata": {},
   "source": [
    "## 의미 있는 품사 선택\n",
    "\n",
    "명사(NN), 동사(VV, VX), 형용사(VA), 어근(XR), 외래어(SL), 한자(SH) 등 의미를 담고 있는 품사를 선택해 어휘 분석에 활용합니다."
   ]
  },
  {
   "cell_type": "code",
   "execution_count": null,
   "id": "59ea03bd",
   "metadata": {},
   "outputs": [],
   "source": [
    "ALLOWED_POS_PREFIXES = (\"NN\", \"VV\", \"VA\", \"VX\", \"XR\", \"SL\", \"SH\")\n",
    "\n",
    "def filter_tokens(tokens, tags, allowed_prefixes=ALLOWED_POS_PREFIXES):\n",
    "    selected = [token for token, tag in zip(tokens, tags) if tag.startswith(allowed_prefixes)]\n",
    "    return selected\n",
    "\n",
    "raw_df['filtered_tokens'] = raw_df.apply(lambda row: filter_tokens(row['tokens'], row['pos_tags']), axis=1)\n",
    "raw_df['filtered_text'] = raw_df['filtered_tokens'].apply(lambda toks: ' '.join(toks))\n",
    "\n",
    "raw_df[['title', 'filtered_tokens']].head()"
   ]
  },
  {
   "cell_type": "markdown",
   "id": "5cd4c19f",
   "metadata": {},
   "source": [
    "## TF-IDF 분석\n",
    "\n",
    "선택한 품사 기반 토큰으로 TF-IDF를 계산하고, 가중치가 높은 상위 어휘를 추출해 CSV로 저장합니다."
   ]
  },
  {
   "cell_type": "code",
   "execution_count": null,
   "id": "db0c4482",
   "metadata": {},
   "outputs": [],
   "source": [
    "vectorizer = TfidfVectorizer(\n",
    "    tokenizer=lambda x: x,\n",
    "    preprocessor=lambda x: x,\n",
    "    token_pattern=None,\n",
    "    max_df=0.8,\n",
    "    min_df=5\n",
    ")\n",
    "\n",
    "tfidf_matrix = vectorizer.fit_transform(raw_df['filtered_tokens'])\n",
    "tfidf_scores = tfidf_matrix.sum(axis=0).A1\n",
    "tfidf_terms = vectorizer.get_feature_names_out()\n",
    "\n",
    "tfidf_df = pd.DataFrame({\n",
    "    'term': tfidf_terms,\n",
    "    'tfidf': tfidf_scores\n",
    "}).sort_values(by='tfidf', ascending=False)\n",
    "\n",
    "TOP_N = 200\n",
    "tfidf_output_path = output_dir / \"kiwi_tfidf_top_terms.csv\"\n",
    "tfidf_df.head(TOP_N).to_csv(tfidf_output_path, index=False)\n",
    "print(f\"TF-IDF 상위 {TOP_N}개 용어를 저장했습니다: {tfidf_output_path}\")\n",
    "\n",
    "tfidf_df.head(20)"
   ]
  },
  {
   "cell_type": "markdown",
   "id": "7b8b89c4",
   "metadata": {},
   "source": [
    "## N-gram 빈도 분석\n",
    "\n",
    "선택한 품사 토큰을 이용해 2-gram과 3-gram 빈도를 계산하고, 상위 결과를 CSV로 저장합니다."
   ]
  },
  {
   "cell_type": "code",
   "execution_count": null,
   "id": "76292d8d",
   "metadata": {},
   "outputs": [],
   "source": [
    "def generate_ngrams(tokens, n):\n",
    "    if len(tokens) < n:\n",
    "        return []\n",
    "    return zip(*[tokens[i:] for i in range(n)])\n",
    "\n",
    "bigram_counter = Counter()\n",
    "trigram_counter = Counter()\n",
    "\n",
    "for tokens in raw_df['filtered_tokens']:\n",
    "    bigram_counter.update([' '.join(ngram) for ngram in generate_ngrams(tokens, 2)])\n",
    "    trigram_counter.update([' '.join(ngram) for ngram in generate_ngrams(tokens, 3)])\n",
    "\n",
    "bigram_df = pd.DataFrame(bigram_counter.most_common(100), columns=['bigram', 'count'])\n",
    "trigram_df = pd.DataFrame(trigram_counter.most_common(100), columns=['trigram', 'count'])\n",
    "\n",
    "bigram_output_path = output_dir / \"kiwi_bigrams_top100.csv\"\n",
    "trigram_output_path = output_dir / \"kiwi_trigrams_top100.csv\"\n",
    "\n",
    "bigram_df.to_csv(bigram_output_path, index=False)\n",
    "trigram_df.to_csv(trigram_output_path, index=False)\n",
    "\n",
    "print(f\"Bigram 상위 100개를 저장했습니다: {bigram_output_path}\")\n",
    "print(f\"Trigram 상위 100개를 저장했습니다: {trigram_output_path}\")\n",
    "\n",
    "bigram_df.head(10)"
   ]
  },
  {
   "cell_type": "markdown",
   "id": "e9d80e97",
   "metadata": {},
   "source": [
    "## 워드클라우드 생성\n",
    "\n",
    "선택된 품사 기반 토큰의 빈도를 이용해 워드클라우드를 생성하고 이미지를 저장합니다. 시스템에 설치된 한글 글꼴을 우선 사용하고, 발견되지 않으면 기본 글꼴로 생성합니다."
   ]
  },
  {
   "cell_type": "code",
   "execution_count": null,
   "id": "f6d83ad5",
   "metadata": {},
   "outputs": [],
   "source": [
    "word_freq = Counter(token for tokens in raw_df['filtered_tokens'] for token in tokens)\n",
    "\n",
    "font_path = None\n",
    "candidate_fonts = [\n",
    "    \"/usr/share/fonts/truetype/nanum/NanumGothic.ttf\",\n",
    "    \"/usr/share/fonts/truetype/noto/NotoSansCJK-Regular.ttc\",\n",
    "    \"/usr/share/fonts/truetype/notosanscjk/NotoSansCJK-Regular.ttc\",\n",
    "]\n",
    "for candidate in candidate_fonts:\n",
    "    if Path(candidate).exists():\n",
    "        font_path = candidate\n",
    "        break\n",
    "\n",
    "print(f\"사용할 글꼴 경로: {font_path if font_path else '기본 글꼴'}\")\n",
    "\n",
    "wordcloud = WordCloud(\n",
    "    width=800,\n",
    "    height=600,\n",
    "    background_color='white',\n",
    "    font_path=font_path,\n",
    "    colormap='viridis'\n",
    ").generate_from_frequencies(word_freq)\n",
    "\n",
    "wordcloud_path = output_dir / \"kiwi_wordcloud.png\"\n",
    "plt.figure(figsize=(10, 8))\n",
    "plt.imshow(wordcloud, interpolation='bilinear')\n",
    "plt.axis('off')\n",
    "plt.tight_layout()\n",
    "plt.savefig(wordcloud_path, dpi=300)\n",
    "print(f\"워드클라우드 이미지를 저장했습니다: {wordcloud_path}\")\n",
    "plt.show()"
   ]
  },
  {
   "cell_type": "markdown",
   "id": "3818d680",
   "metadata": {},
   "source": [
    "## 분석 결과 요약\n",
    "\n",
    "- 품사 분포: `kiwi_pos_distribution.csv`, `kiwi_pos_distribution_top20.png`\n",
    "- TF-IDF: `kiwi_tfidf_top_terms.csv`\n",
    "- Bigram/Trigram: `kiwi_bigrams_top100.csv`, `kiwi_trigrams_top100.csv`\n",
    "- 워드클라우드: `kiwi_wordcloud.png`\n",
    "\n",
    "위 파일들은 모두 `data/문제2_분석결과/` 디렉토리에 저장됩니다."
   ]
  }
 ],
 "metadata": {},
 "nbformat": 4,
 "nbformat_minor": 5
}
